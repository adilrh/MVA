{
 "cells": [
  {
   "cell_type": "code",
   "execution_count": 1,
   "metadata": {},
   "outputs": [
    {
     "name": "stderr",
     "output_type": "stream",
     "text": [
      "/Users/adilrhiulam/anaconda3/lib/python3.6/importlib/_bootstrap.py:205: RuntimeWarning: compiletime version 3.5 of module 'tensorflow.python.framework.fast_tensor_util' does not match runtime version 3.6\n",
      "  return f(*args, **kwds)\n"
     ]
    }
   ],
   "source": [
    "from __future__ import absolute_import\n",
    "from __future__ import division\n",
    "from __future__ import print_function\n",
    "\n",
    "import logging\n",
    "import os\n",
    "import time\n",
    "from multiprocessing import Process\n",
    "from pgportfolio.learn.tradertrainer import TraderTrainer\n",
    "from pgportfolio.tools.configprocess import load_config\n",
    "\n",
    "\n",
    "def train_one(save_path, config, log_file_dir, index, logfile_level, console_level, device):\n",
    "    \"\"\"\n",
    "    train an agent\n",
    "    :param save_path: the path to save the tensorflow model (.ckpt), could be None\n",
    "    :param config: the json configuration file\n",
    "    :param log_file_dir: the directory to save the tensorboard logging file, could be None\n",
    "    :param index: identifier of this train, which is also the sub directory in the train_package,\n",
    "    if it is 0. nothing would be saved into the summary file.\n",
    "    :param logfile_level: logging level of the file\n",
    "    :param console_level: logging level of the console\n",
    "    :param device: 0 or 1 to show which gpu to use, if 0, means use cpu instead of gpu\n",
    "    :return : the Result namedtuple\n",
    "    \"\"\"\n",
    "    if log_file_dir:\n",
    "        logging.basicConfig(filename=log_file_dir.replace(\"tensorboard\",\"programlog\"),\n",
    "                            level=logfile_level)\n",
    "        console = logging.StreamHandler()\n",
    "        console.setLevel(console_level)\n",
    "        logging.getLogger().addHandler(console)\n",
    "    print(\"training at %s started\" % index)\n",
    "    return TraderTrainer(config, save_path=save_path, device=device).train_net(log_file_dir=log_file_dir, index=index)\n",
    "\n",
    "def train_all(processes=1, device=\"cpu\"):\n",
    "    \"\"\"\n",
    "    train all the agents in the train_package folders\n",
    "\n",
    "    :param processes: the number of the processes. If equal to 1, the logging level is debug\n",
    "                      at file and info at console. If greater than 1, the logging level is\n",
    "                      info at file and warming at console.\n",
    "    \"\"\"\n",
    "    if processes == 1:\n",
    "        console_level = logging.INFO\n",
    "        logfile_level = logging.DEBUG\n",
    "    else:\n",
    "        console_level = logging.WARNING\n",
    "        logfile_level = logging.INFO\n",
    "    train_dir = \"train_package\"\n",
    "    if not os.path.exists(\"./\" + train_dir): #if the directory does not exist, creates one\n",
    "        os.makedirs(\"./\" + train_dir)\n",
    "    all_subdir = os.listdir(\"./\" + train_dir)\n",
    "    all_subdir.sort()\n",
    "    pool = []\n",
    "    for dir in all_subdir:\n",
    "        # train only if the log dir does not exist\n",
    "        if not str.isdigit(dir):\n",
    "            return\n",
    "        # NOTE: logfile is for compatibility reason\n",
    "        if not (os.path.isdir(\"./\"+train_dir+\"/\"+dir+\"/tensorboard\") or os.path.isdir(\"./\"+train_dir+\"/\"+dir+\"/logfile\")):\n",
    "            p = Process(target=train_one, args=(\n",
    "                \"./\" + train_dir + \"/\" + dir + \"/netfile\",\n",
    "                load_config(dir),\n",
    "                \"./\" + train_dir + \"/\" + dir + \"/tensorboard\",\n",
    "                dir, logfile_level, console_level, device))\n",
    "            p.start()\n",
    "            pool.append(p)\n",
    "        else:\n",
    "            continue\n",
    "\n",
    "        # suspend if the processes are too many\n",
    "        wait = True\n",
    "        while wait:\n",
    "            time.sleep(5)\n",
    "            for p in pool:\n",
    "                alive = p.is_alive()\n",
    "                if not alive:\n",
    "                    pool.remove(p)\n",
    "            if len(pool)<processes:\n",
    "                wait = False\n",
    "    print(\"All the Tasks are Over\")\n",
    "\n"
   ]
  },
  {
   "cell_type": "code",
   "execution_count": 2,
   "metadata": {
    "collapsed": true
   },
   "outputs": [],
   "source": [
    "import matplotlib.pyplot as plt"
   ]
  },
  {
   "cell_type": "code",
   "execution_count": 3,
   "metadata": {
    "collapsed": true
   },
   "outputs": [],
   "source": [
    "fig, ax = plt.subplots()"
   ]
  },
  {
   "cell_type": "code",
   "execution_count": 4,
   "metadata": {
    "collapsed": true
   },
   "outputs": [],
   "source": [
    "train_dir = \"train_package\""
   ]
  },
  {
   "cell_type": "code",
   "execution_count": 5,
   "metadata": {
    "collapsed": true
   },
   "outputs": [],
   "source": [
    "all_subdir = os.listdir(\"./\" + train_dir)"
   ]
  },
  {
   "cell_type": "code",
   "execution_count": 21,
   "metadata": {},
   "outputs": [
    {
     "data": {
      "text/plain": [
       "['.DS_Store', '1']"
      ]
     },
     "execution_count": 21,
     "metadata": {},
     "output_type": "execute_result"
    }
   ],
   "source": []
  },
  {
   "cell_type": "code",
   "execution_count": 6,
   "metadata": {
    "collapsed": true
   },
   "outputs": [],
   "source": [
    "dir='1'\n",
    "console_level = logging.INFO\n",
    "logfile_level = logging.DEBUG\n",
    "device=\"cpu\""
   ]
  },
  {
   "cell_type": "code",
   "execution_count": 93,
   "metadata": {
    "collapsed": true
   },
   "outputs": [],
   "source": [
    "p = Process(target=train_one, args=(\"./\" + train_dir + \"/\" + dir + \"/netfile\",load_config(dir),\"./\" + train_dir + \"/\" + dir + \"/tensorboard\",dir, logfile_level, console_level, device))\n"
   ]
  },
  {
   "cell_type": "code",
   "execution_count": 94,
   "metadata": {},
   "outputs": [
    {
     "name": "stdout",
     "output_type": "stream",
     "text": [
      "training at 1 started\n",
      "WARNING:tensorflow:From /Users/adilrhiulam/Downloads/PGPortfolio-master/tflearn/initializations.py:119: UniformUnitScaling.__init__ (from tensorflow.python.ops.init_ops) is deprecated and will be removed in a future version.\n",
      "Instructions for updating:\n",
      "Use tf.initializers.variance_scaling instead with distribution=uniform to get equivalent behavior.\n"
     ]
    },
    {
     "name": "stderr",
     "output_type": "stream",
     "text": [
      "WARNING:tensorflow:From /Users/adilrhiulam/Downloads/PGPortfolio-master/tflearn/initializations.py:119: UniformUnitScaling.__init__ (from tensorflow.python.ops.init_ops) is deprecated and will be removed in a future version.\n",
      "Instructions for updating:\n",
      "Use tf.initializers.variance_scaling instead with distribution=uniform to get equivalent behavior.\n",
      "From /Users/adilrhiulam/Downloads/PGPortfolio-master/tflearn/initializations.py:119: UniformUnitScaling.__init__ (from tensorflow.python.ops.init_ops) is deprecated and will be removed in a future version.\n",
      "Instructions for updating:\n",
      "Use tf.initializers.variance_scaling instead with distribution=uniform to get equivalent behavior.\n"
     ]
    }
   ],
   "source": [
    "p.start()"
   ]
  },
  {
   "cell_type": "code",
   "execution_count": 35,
   "metadata": {
    "collapsed": true
   },
   "outputs": [],
   "source": [
    "pool = []\n",
    "pool.append(p)"
   ]
  },
  {
   "cell_type": "code",
   "execution_count": 36,
   "metadata": {},
   "outputs": [
    {
     "data": {
      "text/plain": [
       "[<Process(Process-1, stopped)>]"
      ]
     },
     "execution_count": 36,
     "metadata": {},
     "output_type": "execute_result"
    }
   ],
   "source": [
    "pool"
   ]
  },
  {
   "cell_type": "code",
   "execution_count": 7,
   "metadata": {
    "collapsed": true
   },
   "outputs": [],
   "source": [
    "import numpy as np\n",
    "A= np.array([[1,2,4],[2,5,10],[4,10,21]])"
   ]
  },
  {
   "cell_type": "code",
   "execution_count": 8,
   "metadata": {
    "collapsed": true
   },
   "outputs": [],
   "source": [
    "from __future__ import absolute_import, print_function, division\n",
    "import matplotlib.pyplot as plt\n",
    "import matplotlib.dates as mdates\n",
    "from matplotlib import rc\n",
    "import pandas as pd\n",
    "import logging\n",
    "import json\n",
    "import numpy as np\n",
    "import datetime\n",
    "from pgportfolio.tools.indicator import max_drawdown, sharpe, positive_count, negative_count, moving_accumulate\n",
    "from pgportfolio.tools.configprocess import parse_time, check_input_same\n",
    "from pgportfolio.tools.shortcut import execute_backtest\n",
    "\n",
    "# the dictionary of name of indicators mapping to the function of related indicators\n",
    "# input is portfolio changes\n",
    "INDICATORS = {\"portfolio value\": np.prod,\n",
    "              \"sharpe ratio\": sharpe,\n",
    "              \"max drawdown\": max_drawdown,\n",
    "              \"positive periods\": positive_count,\n",
    "              \"negative periods\": negative_count,\n",
    "              \"postive day\": lambda pcs: positive_count(moving_accumulate(pcs, 48)),\n",
    "              \"negative day\": lambda pcs: negative_count(moving_accumulate(pcs, 48)),\n",
    "              \"postive week\": lambda pcs: positive_count(moving_accumulate(pcs, 336)),\n",
    "              \"negative week\": lambda pcs: negative_count(moving_accumulate(pcs, 336)),\n",
    "              \"average\": np.mean}\n",
    "\n",
    "NAMES = {\"best\": \"Best Stock (Benchmark)\",\n",
    "         \"crp\": \"UCRP (Benchmark)\",\n",
    "         \"ubah\": \"UBAH (Benchmark)\",\n",
    "         \"anticor\": \"ANTICOR\",\n",
    "         \"olmar\": \"OLMAR\",\n",
    "         \"pamr\": \"PAMR\",\n",
    "         \"cwmr\": \"CWMR\",\n",
    "         \"rmr\": \"RMR\",\n",
    "         \"ons\": \"ONS\",\n",
    "         \"up\": \"UP\",\n",
    "         \"eg\": \"EG\",\n",
    "         \"bk\": \"BK\",\n",
    "         \"corn\": \"CORN\",\n",
    "         \"m0\": \"M0\",\n",
    "         \"wmamr\": \"WMAMR\"\n",
    "         }\n",
    "\n",
    "def plot_backtest(config, algos, labels=None):\n",
    "    \"\"\"\n",
    "    @:param config: config dictionary\n",
    "    @:param algos: list of strings representing the name of algorithms or index of pgportfolio result\n",
    "    \"\"\"\n",
    "    results = []\n",
    "    for i, algo in enumerate(algos):\n",
    "        if algo.isdigit():\n",
    "            results.append(np.cumprod(_load_from_summary(algo, config)))\n",
    "            logging.info(\"load index \"+algo+\" from csv file\")\n",
    "        else:\n",
    "            logging.info(\"start executing \"+algo)\n",
    "            results.append(np.cumprod(execute_backtest(algo, config)))\n",
    "            logging.info(\"finish executing \"+algo)\n",
    "\n",
    "    start, end = _extract_test(config)\n",
    "    timestamps = np.linspace(start, end, len(results[0]))\n",
    "    dates = [datetime.datetime.fromtimestamp(int(ts)-int(ts)%config[\"input\"][\"global_period\"])\n",
    "             for ts in timestamps]\n",
    "\n",
    "    weeks = mdates.WeekdayLocator()\n",
    "    days = mdates.DayLocator()\n",
    "\n",
    "    rc(\"font\", **{\"family\": \"sans-serif\", \"sans-serif\": [\"Helvetica\"],\n",
    "                  \"size\": 8})\n",
    "\n",
    "    \"\"\"\n",
    "    styles = [(\"-\", None), (\"--\", None), (\"\", \"+\"), (\":\", None),\n",
    "              (\"\", \"o\"), (\"\", \"v\"), (\"\", \"*\")]\n",
    "    \"\"\"\n",
    "    fig, ax = plt.subplots()\n",
    "    fig.set_size_inches(9, 5)\n",
    "    for i, pvs in enumerate(results):\n",
    "        if len(labels) > i:\n",
    "            label = labels[i]\n",
    "        else:\n",
    "            label = NAMES[algos[i]]\n",
    "        ax.semilogy(dates, pvs, linewidth=1, label=label)\n",
    "        #ax.plot(dates, pvs, linewidth=1, label=label)\n",
    "\n",
    "    plt.ylabel(\"portfolio value $p_t/p_0$\", fontsize=12)\n",
    "    plt.xlabel(\"time\", fontsize=12)\n",
    "    xfmt = mdates.DateFormatter(\"%m-%d %H:%M\")\n",
    "    ax.xaxis.set_major_locator(weeks)\n",
    "    ax.xaxis.set_minor_locator(days)\n",
    "    datemin = dates[0]\n",
    "    datemax = dates[-1]\n",
    "    ax.set_xlim(datemin, datemax)\n",
    "\n",
    "    ax.xaxis.set_major_formatter(xfmt)\n",
    "    plt.grid(True)\n",
    "    plt.tight_layout()\n",
    "    ax.legend(loc=\"upper left\", prop={\"size\":10})\n",
    "    fig.autofmt_xdate()\n",
    "    plt.savefig(\"result.eps\", bbox_inches='tight',\n",
    "                pad_inches=0)\n",
    "    plt.show()\n",
    "\n",
    "\n",
    "def table_backtest(config, algos, labels=None, format=\"raw\",\n",
    "                   indicators=list(INDICATORS.keys())):\n",
    "    \"\"\"\n",
    "    @:param config: config dictionary\n",
    "    @:param algos: list of strings representing the name of algorithms\n",
    "    or index of pgportfolio result\n",
    "    @:param format: \"raw\", \"html\", \"latex\" or \"csv\". If it is \"csv\",\n",
    "    the result will be save in a csv file. otherwise only print it out\n",
    "    @:return: a string of html or latex code\n",
    "    \"\"\"\n",
    "    results = []\n",
    "    labels = list(labels)\n",
    "    for i, algo in enumerate(algos):\n",
    "        if algo.isdigit():\n",
    "            portfolio_changes = _load_from_summary(algo, config)\n",
    "            logging.info(\"load index \" + algo + \" from csv file\")\n",
    "        else:\n",
    "            logging.info(\"start executing \" + algo)\n",
    "            portfolio_changes = execute_backtest(algo, config)\n",
    "            logging.info(\"finish executing \" + algo)\n",
    "\n",
    "        indicator_result = {}\n",
    "        for indicator in indicators:\n",
    "            indicator_result[indicator] = INDICATORS[indicator](portfolio_changes)\n",
    "        results.append(indicator_result)\n",
    "        if len(labels)<=i:\n",
    "            labels.append(NAMES[algo])\n",
    "\n",
    "    dataframe = pd.DataFrame(results, index=labels)\n",
    "\n",
    "    start, end = _extract_test(config)\n",
    "    start = datetime.datetime.fromtimestamp(start - start%config[\"input\"][\"global_period\"])\n",
    "    end = datetime.datetime.fromtimestamp(end - end%config[\"input\"][\"global_period\"])\n",
    "\n",
    "    print(\"backtest start from \"+ str(start) + \" to \" + str(end))\n",
    "    if format == \"html\":\n",
    "        print(dataframe.to_html())\n",
    "    elif format == \"latex\":\n",
    "        print(dataframe.to_latex())\n",
    "    elif format == \"raw\":\n",
    "        print(dataframe.to_string())\n",
    "    elif format == \"csv\":\n",
    "        dataframe.to_csv(\"./compare\"+end.strftime(\"%Y-%m-%d\")+\".csv\")\n",
    "    else:\n",
    "        raise ValueError(\"The format \" + format + \" is not supported\")\n",
    "\n",
    "\n",
    "def _extract_test(config):\n",
    "    global_start = parse_time(config[\"input\"][\"start_date\"])\n",
    "    global_end = parse_time(config[\"input\"][\"end_date\"])\n",
    "    span = global_end - global_start\n",
    "    start = global_end - config[\"input\"][\"test_portion\"] * span\n",
    "    end = global_end\n",
    "    return start, end\n",
    "\n",
    "\n",
    "def _load_from_summary(index, config):\n",
    "    \"\"\" load the backtest result form train_package/train_summary\n",
    "    @:param index: index of the training and backtest\n",
    "    @:return: numpy array of the portfolio changes\n",
    "    \"\"\"\n",
    "    dataframe = pd.DataFrame.from_csv(\"./train_package/train_summary.csv\")\n",
    "    history_string = dataframe.loc[int(index)][\"backtest_test_history\"]\n",
    "    if not check_input_same(config, json.loads(dataframe.loc[int(index)][\"config\"])):\n",
    "        raise ValueError(\"the date of this index is not the same as the default config\")\n",
    "    return np.fromstring(history_string, sep=\",\")[:-1]\n",
    "\n",
    "\n"
   ]
  },
  {
   "cell_type": "code",
   "execution_count": 56,
   "metadata": {},
   "outputs": [
    {
     "ename": "SyntaxError",
     "evalue": "invalid syntax (<ipython-input-56-deab1b83f76f>, line 1)",
     "output_type": "error",
     "traceback": [
      "\u001b[0;36m  File \u001b[0;32m\"<ipython-input-56-deab1b83f76f>\"\u001b[0;36m, line \u001b[0;32m1\u001b[0m\n\u001b[0;31m    python main.py --mode=table --algos=1,olmar,ons --labels=nntrader,olmar,ons\u001b[0m\n\u001b[0m              ^\u001b[0m\n\u001b[0;31mSyntaxError\u001b[0m\u001b[0;31m:\u001b[0m invalid syntax\n"
     ]
    }
   ],
   "source": [
    "python main.py --mode=table --algos=1,olmar,ons --labels=nntrader,olmar,ons"
   ]
  },
  {
   "cell_type": "code",
   "execution_count": 9,
   "metadata": {},
   "outputs": [],
   "source": [
    "from __future__ import absolute_import\n",
    "import json\n",
    "import logging\n",
    "import os\n",
    "import time\n",
    "from argparse import ArgumentParser\n",
    "from datetime import datetime\n",
    "\n",
    "from pgportfolio.tools.configprocess import preprocess_config\n",
    "from pgportfolio.tools.configprocess import load_config\n",
    "from pgportfolio.tools.trade import save_test_data\n",
    "from pgportfolio.tools.shortcut import execute_backtest\n",
    "from pgportfolio.resultprocess import plot\n",
    "\n",
    "\n",
    "def build_parser():\n",
    "    parser = ArgumentParser()\n",
    "    parser.add_argument(\"--mode\",dest=\"mode\",\n",
    "                        help=\"start mode, train, generate, download_data\"\n",
    "                             \" backtest\",\n",
    "                        metavar=\"MODE\", default=\"train\")\n",
    "    parser.add_argument(\"--processes\", dest=\"processes\",\n",
    "                        help=\"number of processes you want to start to train the network\",\n",
    "                        default=\"1\")\n",
    "    parser.add_argument(\"--repeat\", dest=\"repeat\",\n",
    "                        help=\"repeat times of generating training subfolder\",\n",
    "                        default=\"1\")\n",
    "    parser.add_argument(\"--algo\",\n",
    "                        help=\"algo name or indexes of training_package \",\n",
    "                        dest=\"algo\")\n",
    "    parser.add_argument(\"--algos\",\n",
    "                        help=\"algo names or indexes of training_package, seperated by \\\",\\\"\",\n",
    "                        dest=\"algos\")\n",
    "    parser.add_argument(\"--labels\", dest=\"labels\",\n",
    "                        help=\"names that will shown in the figure caption or table header\")\n",
    "    parser.add_argument(\"--format\", dest=\"format\", default=\"raw\",\n",
    "                        help=\"format of the table printed\")\n",
    "    parser.add_argument(\"--device\", dest=\"device\", default=\"cpu\",\n",
    "                        help=\"device to be used to train\")\n",
    "    parser.add_argument(\"--folder\", dest=\"folder\", type=int,\n",
    "                        help=\"folder(int) to load the config, neglect this option if loading from ./pgportfolio/net_config\")\n",
    "    return parser\n",
    "\n",
    "\n",
    "def main():\n",
    "    parser = build_parser()\n",
    "    options = parser.parse_args()\n",
    "    if not os.path.exists(\"./\" + \"train_package\"):\n",
    "        os.makedirs(\"./\" + \"train_package\")\n",
    "    if not os.path.exists(\"./\" + \"database\"):\n",
    "        os.makedirs(\"./\" + \"database\")\n",
    "\n",
    "    if options.mode == \"train\":\n",
    "        import pgportfolio.autotrain.training\n",
    "        if not options.algo:\n",
    "            pgportfolio.autotrain.training.train_all(int(options.processes), options.device)\n",
    "        else:\n",
    "            for folder in options.train_floder:\n",
    "                raise NotImplementedError()\n",
    "    elif options.mode == \"generate\":\n",
    "        import pgportfolio.autotrain.generate as generate\n",
    "        logging.basicConfig(level=logging.INFO)\n",
    "        generate.add_packages(load_config(), int(options.repeat))\n",
    "    elif options.mode == \"download_data\":\n",
    "        from pgportfolio.marketdata.datamatrices import DataMatrices\n",
    "        with open(\"./pgportfolio/net_config.json\") as file:\n",
    "            config = json.load(file)\n",
    "        config = preprocess_config(config)\n",
    "        start = time.mktime(datetime.strptime(config[\"input\"][\"start_date\"], \"%Y/%m/%d\").timetuple())\n",
    "        end = time.mktime(datetime.strptime(config[\"input\"][\"end_date\"], \"%Y/%m/%d\").timetuple())\n",
    "        DataMatrices(start=start,\n",
    "                     end=end,\n",
    "                     feature_number=config[\"input\"][\"feature_number\"],\n",
    "                     window_size=config[\"input\"][\"window_size\"],\n",
    "                     online=True,\n",
    "                     period=config[\"input\"][\"global_period\"],\n",
    "                     volume_average_days=config[\"input\"][\"volume_average_days\"],\n",
    "                     coin_filter=config[\"input\"][\"coin_number\"],\n",
    "                     is_permed=config[\"input\"][\"is_permed\"],\n",
    "                     test_portion=config[\"input\"][\"test_portion\"],\n",
    "                     portion_reversed=config[\"input\"][\"portion_reversed\"])\n",
    "    elif options.mode == \"backtest\":\n",
    "        config = _config_by_algo(options.algo)\n",
    "        _set_logging_by_algo(logging.DEBUG, logging.DEBUG, options.algo, \"backtestlog\")\n",
    "        execute_backtest(options.algo, config)\n",
    "    elif options.mode == \"save_test_data\":\n",
    "        # This is used to export the test data\n",
    "        save_test_data(load_config(options.folder))\n",
    "    elif options.mode == \"plot\":\n",
    "        logging.basicConfig(level=logging.INFO)\n",
    "        algos = options.algos.split(\",\")\n",
    "        if options.labels:\n",
    "            labels = options.labels.replace(\"_\",\" \")\n",
    "            labels = labels.split(\",\")\n",
    "        else:\n",
    "            labels = algos\n",
    "        plot.plot_backtest(load_config(), algos, labels)\n",
    "    elif options.mode == \"table\":\n",
    "        algos = options.algos.split(\",\")\n",
    "        if options.labels:\n",
    "            labels = options.labels.replace(\"_\",\" \")\n",
    "            labels = labels.split(\",\")\n",
    "        else:\n",
    "            labels = algos\n",
    "        plot.table_backtest(load_config(), algos, labels, format=options.format)\n",
    "\n",
    "def _set_logging_by_algo(console_level, file_level, algo, name):\n",
    "    if algo.isdigit():\n",
    "            logging.basicConfig(filename=\"./train_package/\"+algo+\"/\"+name,\n",
    "                                level=file_level)\n",
    "            console = logging.StreamHandler()\n",
    "            console.setLevel(console_level)\n",
    "            logging.getLogger().addHandler(console)\n",
    "    else:\n",
    "        logging.basicConfig(level=console_level)\n",
    "\n",
    "\n",
    "def _config_by_algo(algo):\n",
    "    \"\"\"\n",
    "    :param algo: a string represent index or algo name\n",
    "    :return : a config dictionary\n",
    "    \"\"\"\n",
    "    if not algo:\n",
    "        raise ValueError(\"please input a specific algo\")\n",
    "    elif algo.isdigit():\n",
    "        config = load_config(algo)\n",
    "    else:\n",
    "        config = load_config()\n",
    "    return config\n",
    "\n",
    "\n"
   ]
  },
  {
   "cell_type": "code",
   "execution_count": null,
   "metadata": {
    "collapsed": true
   },
   "outputs": [],
   "source": [
    "logging.basicConfig(level=logging.INFO)\n",
    "algos = options.algos.split(\",\")\n",
    "if options.labels:\n",
    "    labels = options.labels.replace(\"_\",\" \")\n",
    "    labels = labels.split(\",\")\n",
    "else:\n",
    "    labels = algos\n",
    "plot.plot_backtest(load_config(), algos, labels)"
   ]
  },
  {
   "cell_type": "code",
   "execution_count": 10,
   "metadata": {
    "collapsed": true
   },
   "outputs": [],
   "source": [
    "from __future__ import absolute_import, print_function, division\n",
    "import matplotlib.pyplot as plt\n",
    "import matplotlib.dates as mdates\n",
    "from matplotlib import rc\n",
    "import pandas as pd\n",
    "import logging\n",
    "import json\n",
    "import numpy as np\n",
    "import datetime\n",
    "\n",
    "\n",
    "# the dictionary of name of indicators mapping to the function of related indicators\n",
    "# input is portfolio changes\n",
    "INDICATORS = {\"portfolio value\": np.prod,\n",
    "              \"sharpe ratio\": sharpe,\n",
    "              \"max drawdown\": max_drawdown,\n",
    "              \"positive periods\": positive_count,\n",
    "              \"negative periods\": negative_count,\n",
    "              \"postive day\": lambda pcs: positive_count(moving_accumulate(pcs, 48)),\n",
    "              \"negative day\": lambda pcs: negative_count(moving_accumulate(pcs, 48)),\n",
    "              \"postive week\": lambda pcs: positive_count(moving_accumulate(pcs, 336)),\n",
    "              \"negative week\": lambda pcs: negative_count(moving_accumulate(pcs, 336)),\n",
    "              \"average\": np.mean}\n",
    "\n",
    "NAMES = {\"best\": \"Best Stock (Benchmark)\",\n",
    "         \"crp\": \"UCRP (Benchmark)\",\n",
    "         \"ubah\": \"UBAH (Benchmark)\",\n",
    "         \"anticor\": \"ANTICOR\",\n",
    "         \"olmar\": \"OLMAR\",\n",
    "         \"pamr\": \"PAMR\",\n",
    "         \"cwmr\": \"CWMR\",\n",
    "         \"rmr\": \"RMR\",\n",
    "         \"ons\": \"ONS\",\n",
    "         \"up\": \"UP\",\n",
    "         \"eg\": \"EG\",\n",
    "         \"bk\": \"BK\",\n",
    "         \"corn\": \"CORN\",\n",
    "         \"m0\": \"M0\",\n",
    "         \"wmamr\": \"WMAMR\"\n",
    "         }\n",
    "\n",
    "def plot_backtest(config, algos, labels=None):\n",
    "    \"\"\"\n",
    "    @:param config: config dictionary\n",
    "    @:param algos: list of strings representing the name of algorithms or index of pgportfolio result\n",
    "    \"\"\"\n",
    "    results = []\n",
    "    for i, algo in enumerate(algos):\n",
    "        if algo.isdigit():\n",
    "            results.append(np.cumprod(_load_from_summary(algo, config)))\n",
    "            logging.info(\"load index \"+algo+\" from csv file\")\n",
    "        else:\n",
    "            logging.info(\"start executing \"+algo)\n",
    "            results.append(np.cumprod(execute_backtest(algo, config)))\n",
    "            logging.info(\"finish executing \"+algo)\n",
    "\n",
    "    start, end = _extract_test(config)\n",
    "    timestamps = np.linspace(start, end, len(results[0]))\n",
    "    dates = [datetime.datetime.fromtimestamp(int(ts)-int(ts)%config[\"input\"][\"global_period\"])\n",
    "             for ts in timestamps]\n",
    "\n",
    "    weeks = mdates.WeekdayLocator()\n",
    "    days = mdates.DayLocator()\n",
    "\n",
    "    rc(\"font\", **{\"family\": \"sans-serif\", \"sans-serif\": [\"Helvetica\"],\n",
    "                  \"size\": 8})\n",
    "\n",
    "    \"\"\"\n",
    "    styles = [(\"-\", None), (\"--\", None), (\"\", \"+\"), (\":\", None),\n",
    "              (\"\", \"o\"), (\"\", \"v\"), (\"\", \"*\")]\n",
    "    \"\"\"\n",
    "    fig, ax = plt.subplots()\n",
    "    fig.set_size_inches(9, 5)\n",
    "    for i, pvs in enumerate(results):\n",
    "        if len(labels) > i:\n",
    "            label = labels[i]\n",
    "        else:\n",
    "            label = NAMES[algos[i]]\n",
    "        ax.semilogy(dates, pvs, linewidth=1, label=label)\n",
    "        #ax.plot(dates, pvs, linewidth=1, label=label)\n",
    "\n",
    "    plt.ylabel(\"portfolio value $p_t/p_0$\", fontsize=12)\n",
    "    plt.xlabel(\"time\", fontsize=12)\n",
    "    xfmt = mdates.DateFormatter(\"%m-%d %H:%M\")\n",
    "    ax.xaxis.set_major_locator(weeks)\n",
    "    ax.xaxis.set_minor_locator(days)\n",
    "    datemin = dates[0]\n",
    "    datemax = dates[-1]\n",
    "    ax.set_xlim(datemin, datemax)\n",
    "    ax.set_title('number of assets = 3')\n",
    "    ax.xaxis.set_major_formatter(xfmt)\n",
    "    plt.grid(False)\n",
    "    plt.tight_layout()\n",
    "    ax.legend(loc=\"upper left\", prop={\"size\":10})\n",
    "    fig.autofmt_xdate()\n",
    "    plt.savefig(\"result.eps\", bbox_inches='tight',\n",
    "                pad_inches=0)\n",
    "    \n",
    "    plt.show()\n",
    "\n",
    "\n",
    "def table_backtest(config, algos, labels=None, format=\"raw\",\n",
    "                   indicators=list(INDICATORS.keys())):\n",
    "    \"\"\"\n",
    "    @:param config: config dictionary\n",
    "    @:param algos: list of strings representing the name of algorithms\n",
    "    or index of pgportfolio result\n",
    "    @:param format: \"raw\", \"html\", \"latex\" or \"csv\". If it is \"csv\",\n",
    "    the result will be save in a csv file. otherwise only print it out\n",
    "    @:return: a string of html or latex code\n",
    "    \"\"\"\n",
    "    results = []\n",
    "    labels = list(labels)\n",
    "    for i, algo in enumerate(algos):\n",
    "        if algo.isdigit():\n",
    "            portfolio_changes = _load_from_summary(algo, config)\n",
    "            logging.info(\"load index \" + algo + \" from csv file\")\n",
    "        else:\n",
    "            logging.info(\"start executing \" + algo)\n",
    "            portfolio_changes = execute_backtest(algo, config)\n",
    "            logging.info(\"finish executing \" + algo)\n",
    "\n",
    "        indicator_result = {}\n",
    "        for indicator in indicators:\n",
    "            indicator_result[indicator] = INDICATORS[indicator](portfolio_changes)\n",
    "        results.append(indicator_result)\n",
    "        if len(labels)<=i:\n",
    "            labels.append(NAMES[algo])\n",
    "\n",
    "    dataframe = pd.DataFrame(results, index=labels)\n",
    "\n",
    "    start, end = _extract_test(config)\n",
    "    start = datetime.datetime.fromtimestamp(start - start%config[\"input\"][\"global_period\"])\n",
    "    end = datetime.datetime.fromtimestamp(end - end%config[\"input\"][\"global_period\"])\n",
    "\n",
    "    print(\"backtest start from \"+ str(start) + \" to \" + str(end))\n",
    "    if format == \"html\":\n",
    "        print(dataframe.to_html())\n",
    "    elif format == \"latex\":\n",
    "        print(dataframe.to_latex())\n",
    "    elif format == \"raw\":\n",
    "        print(dataframe.to_string())\n",
    "    elif format == \"csv\":\n",
    "        dataframe.to_csv(\"./compare\"+end.strftime(\"%Y-%m-%d\")+\".csv\")\n",
    "    else:\n",
    "        raise ValueError(\"The format \" + format + \" is not supported\")\n",
    "\n",
    "\n",
    "def _extract_test(config):\n",
    "    global_start = parse_time(config[\"input\"][\"start_date\"])\n",
    "    global_end = parse_time(config[\"input\"][\"end_date\"])\n",
    "    span = global_end - global_start\n",
    "    start = global_end - config[\"input\"][\"test_portion\"] * span\n",
    "    end = global_end\n",
    "    return start, end\n",
    "\n",
    "\n",
    "def _load_from_summary(index, config):\n",
    "    \"\"\" load the backtest result form train_package/train_summary\n",
    "    @:param index: index of the training and backtest\n",
    "    @:return: numpy array of the portfolio changes\n",
    "    \"\"\"\n",
    "    dataframe = pd.DataFrame.from_csv(\"./train_package/train_summary.csv\")\n",
    "    history_string = dataframe.loc[int(index)][\"backtest_test_history\"]\n",
    "    if not check_input_same(config, json.loads(dataframe.loc[int(index)][\"config\"])):\n",
    "        raise ValueError(\"the date of this index is not the same as the default config\")\n",
    "    return np.fromstring(history_string, sep=\",\")[:-1]\n",
    "\n",
    "\n"
   ]
  },
  {
   "cell_type": "code",
   "execution_count": 42,
   "metadata": {
    "collapsed": true
   },
   "outputs": [],
   "source": [
    "#dataframe = pd.DataFrame.from_csv(\"/Users/adilrhiulam/Downloads/PGPortfolio-master/3ass/train_summary.csv\")\n",
    "#dataframe2 = pd.DataFrame.from_csv(\"/Users/adilrhiulam/Downloads/PGPortfolio-master/train_package/train_summary.csv\")\n",
    "dataframe3 = pd.DataFrame.from_csv(\"/Users/adilrhiulam/Downloads/PGPortfolio-master/train_package/train_summary.csv\")"
   ]
  },
  {
   "cell_type": "code",
   "execution_count": 2,
   "metadata": {
    "collapsed": true
   },
   "outputs": [],
   "source": [
    "import pandas as pd"
   ]
  },
  {
   "cell_type": "code",
   "execution_count": 5,
   "metadata": {
    "collapsed": true
   },
   "outputs": [],
   "source": [
    "table= pd.read_csv(\"/Users/adilrhiulam/Downloads/PGPortfolio-master/11assets/train_summary.csv\",sep=\",\")"
   ]
  },
  {
   "cell_type": "code",
   "execution_count": 6,
   "metadata": {},
   "outputs": [
    {
     "data": {
      "text/html": [
       "<div>\n",
       "<style>\n",
       "    .dataframe thead tr:only-child th {\n",
       "        text-align: right;\n",
       "    }\n",
       "\n",
       "    .dataframe thead th {\n",
       "        text-align: left;\n",
       "    }\n",
       "\n",
       "    .dataframe tbody tr th {\n",
       "        vertical-align: top;\n",
       "    }\n",
       "</style>\n",
       "<table border=\"1\" class=\"dataframe\">\n",
       "  <thead>\n",
       "    <tr style=\"text-align: right;\">\n",
       "      <th></th>\n",
       "      <th>net_dir</th>\n",
       "      <th>test_pv</th>\n",
       "      <th>test_log_mean</th>\n",
       "      <th>test_log_mean_free</th>\n",
       "      <th>test_history</th>\n",
       "      <th>config</th>\n",
       "      <th>backtest_test_pv</th>\n",
       "      <th>backtest_test_history</th>\n",
       "      <th>backtest_test_log_mean</th>\n",
       "      <th>training_time</th>\n",
       "    </tr>\n",
       "  </thead>\n",
       "  <tbody>\n",
       "    <tr>\n",
       "      <th>0</th>\n",
       "      <td>1</td>\n",
       "      <td>9.537433</td>\n",
       "      <td>0.000812</td>\n",
       "      <td>0.003215</td>\n",
       "      <td>1.00479, 1.00244, 1.00554, 0.999282, 1.00744, ...</td>\n",
       "      <td>{\"agent_type\": \"NNAgent\", \"input\": {\"coin_numb...</td>\n",
       "      <td>53.024788</td>\n",
       "      <td>1.00228, 1.00165, 1.00526, 1.00194, 1.00832, 0...</td>\n",
       "      <td>0.00143</td>\n",
       "      <td>802</td>\n",
       "    </tr>\n",
       "  </tbody>\n",
       "</table>\n",
       "</div>"
      ],
      "text/plain": [
       "   net_dir   test_pv  test_log_mean  test_log_mean_free  \\\n",
       "0        1  9.537433       0.000812            0.003215   \n",
       "\n",
       "                                        test_history  \\\n",
       "0  1.00479, 1.00244, 1.00554, 0.999282, 1.00744, ...   \n",
       "\n",
       "                                              config  backtest_test_pv  \\\n",
       "0  {\"agent_type\": \"NNAgent\", \"input\": {\"coin_numb...         53.024788   \n",
       "\n",
       "                               backtest_test_history  backtest_test_log_mean  \\\n",
       "0  1.00228, 1.00165, 1.00526, 1.00194, 1.00832, 0...                 0.00143   \n",
       "\n",
       "   training_time  \n",
       "0            802  "
      ]
     },
     "execution_count": 6,
     "metadata": {},
     "output_type": "execute_result"
    }
   ],
   "source": [
    "table"
   ]
  },
  {
   "cell_type": "code",
   "execution_count": 43,
   "metadata": {
    "collapsed": true
   },
   "outputs": [],
   "source": [
    "#history_string = dataframe.loc[int(1)][\"backtest_test_history\"]\n",
    "#history_string2 = dataframe2.loc[int(1)][\"backtest_test_history\"]\n",
    "history_string3 = dataframe3.loc[int(1)][\"backtest_test_history\"]"
   ]
  },
  {
   "cell_type": "code",
   "execution_count": 44,
   "metadata": {
    "collapsed": true
   },
   "outputs": [],
   "source": [
    "#x=np.fromstring(history_string, sep=\",\")[:-1]\n",
    "#y = np.fromstring(history_string2, sep=\",\")[:-1]\n",
    "z = np.fromstring(history_string3, sep=\",\")[:-1]"
   ]
  },
  {
   "cell_type": "code",
   "execution_count": null,
   "metadata": {},
   "outputs": [],
   "source": [
    "plt.figure(1,figsize=(10,5))\n",
    "plt.plot(np.cumsum(np.log(z)),label='CNN agent')\n",
    "plt.plot(np.cumsum(np.log(test1)),label='OLMAR')\n",
    "plt.plot(np.cumsum(np.log(test4)),label='UP')\n",
    "plt.plot(np.cumsum(np.log(test2)),label='PAMR')\n",
    "plt.plot(np.cumsum(np.log(test5)),label='EG', alpha = 1)\n",
    "plt.ylabel('Cumulative Reward')\n",
    "plt.xlabel('Periods')\n",
    "plt.legend()\n",
    "plt.show()"
   ]
  },
  {
   "cell_type": "code",
   "execution_count": 14,
   "metadata": {
    "collapsed": true
   },
   "outputs": [],
   "source": [
    "from multiprocessing import Process"
   ]
  },
  {
   "cell_type": "code",
   "execution_count": 29,
   "metadata": {
    "collapsed": true
   },
   "outputs": [],
   "source": [
    "def f(name):\n",
    "    print ('hello', name)\n",
    "p = Process(target=f, args=('bob',))\n",
    "\n"
   ]
  },
  {
   "cell_type": "code",
   "execution_count": 30,
   "metadata": {},
   "outputs": [
    {
     "name": "stdout",
     "output_type": "stream",
     "text": [
      "hello bob\n"
     ]
    }
   ],
   "source": [
    "p.start()"
   ]
  },
  {
   "cell_type": "code",
   "execution_count": 14,
   "metadata": {
    "collapsed": true
   },
   "outputs": [],
   "source": [
    "from pgportfolio.tools.shortcut import execute_backtest"
   ]
  },
  {
   "cell_type": "code",
   "execution_count": 15,
   "metadata": {
    "collapsed": true
   },
   "outputs": [],
   "source": [
    "from __future__ import absolute_import\n",
    "import json\n",
    "import logging\n",
    "import os\n",
    "import time\n",
    "from argparse import ArgumentParser\n",
    "from datetime import datetime\n",
    "\n",
    "from pgportfolio.tools.configprocess import preprocess_config\n",
    "from pgportfolio.tools.configprocess import load_config\n",
    "from pgportfolio.tools.trade import save_test_data\n",
    "from pgportfolio.tools.shortcut import execute_backtest\n",
    "from pgportfolio.resultprocess import plot\n",
    "\n",
    "\n",
    "def build_parser():\n",
    "    parser = ArgumentParser()\n",
    "    parser.add_argument(\"--mode\",dest=\"mode\",\n",
    "                        help=\"start mode, train, generate, download_data\"\n",
    "                             \" backtest\",\n",
    "                        metavar=\"MODE\", default=\"train\")\n",
    "    parser.add_argument(\"--processes\", dest=\"processes\",\n",
    "                        help=\"number of processes you want to start to train the network\",\n",
    "                        default=\"1\")\n",
    "    parser.add_argument(\"--repeat\", dest=\"repeat\",\n",
    "                        help=\"repeat times of generating training subfolder\",\n",
    "                        default=\"1\")\n",
    "    parser.add_argument(\"--algo\",\n",
    "                        help=\"algo name or indexes of training_package \",\n",
    "                        dest=\"algo\")\n",
    "    parser.add_argument(\"--algos\",\n",
    "                        help=\"algo names or indexes of training_package, seperated by \\\",\\\"\",\n",
    "                        dest=\"algos\")\n",
    "    parser.add_argument(\"--labels\", dest=\"labels\",\n",
    "                        help=\"names that will shown in the figure caption or table header\")\n",
    "    parser.add_argument(\"--format\", dest=\"format\", default=\"raw\",\n",
    "                        help=\"format of the table printed\")\n",
    "    parser.add_argument(\"--device\", dest=\"device\", default=\"cpu\",\n",
    "                        help=\"device to be used to train\")\n",
    "    parser.add_argument(\"--folder\", dest=\"folder\", type=int,\n",
    "                        help=\"folder(int) to load the config, neglect this option if loading from ./pgportfolio/net_config\")\n",
    "    return parser\n",
    "\n",
    "\n",
    "def main():\n",
    "    parser = build_parser()\n",
    "    options = parser.parse_args()\n",
    "    if not os.path.exists(\"./\" + \"train_package\"):\n",
    "        os.makedirs(\"./\" + \"train_package\")\n",
    "    if not os.path.exists(\"./\" + \"database\"):\n",
    "        os.makedirs(\"./\" + \"database\")\n",
    "\n",
    "    if options.mode == \"train\":\n",
    "        import pgportfolio.autotrain.training\n",
    "        if not options.algo:\n",
    "            pgportfolio.autotrain.training.train_all(int(options.processes), options.device)\n",
    "        else:\n",
    "            for folder in options.train_floder:\n",
    "                raise NotImplementedError()\n",
    "    elif options.mode == \"generate\":\n",
    "        import pgportfolio.autotrain.generate as generate\n",
    "        logging.basicConfig(level=logging.INFO)\n",
    "        generate.add_packages(load_config(), int(options.repeat))\n",
    "    elif options.mode == \"download_data\":\n",
    "        from pgportfolio.marketdata.datamatrices import DataMatrices\n",
    "        with open(\"./pgportfolio/net_config.json\") as file:\n",
    "            config = json.load(file)\n",
    "        config = preprocess_config(config)\n",
    "        start = time.mktime(datetime.strptime(config[\"input\"][\"start_date\"], \"%Y/%m/%d\").timetuple())\n",
    "        end = time.mktime(datetime.strptime(config[\"input\"][\"end_date\"], \"%Y/%m/%d\").timetuple())\n",
    "        DataMatrices(start=start,\n",
    "                     end=end,\n",
    "                     feature_number=config[\"input\"][\"feature_number\"],\n",
    "                     window_size=config[\"input\"][\"window_size\"],\n",
    "                     online=True,\n",
    "                     period=config[\"input\"][\"global_period\"],\n",
    "                     volume_average_days=config[\"input\"][\"volume_average_days\"],\n",
    "                     coin_filter=config[\"input\"][\"coin_number\"],\n",
    "                     is_permed=config[\"input\"][\"is_permed\"],\n",
    "                     test_portion=config[\"input\"][\"test_portion\"],\n",
    "                     portion_reversed=config[\"input\"][\"portion_reversed\"])\n",
    "    elif options.mode == \"backtest\":\n",
    "        config = _config_by_algo(options.algo)\n",
    "        _set_logging_by_algo(logging.DEBUG, logging.DEBUG, options.algo, \"backtestlog\")\n",
    "        execute_backtest(options.algo, config)\n",
    "    elif options.mode == \"save_test_data\":\n",
    "        # This is used to export the test data\n",
    "        save_test_data(load_config(options.folder))\n",
    "    elif options.mode == \"plot\":\n",
    "        logging.basicConfig(level=logging.INFO)\n",
    "        algos = options.algos.split(\",\")\n",
    "        if options.labels:\n",
    "            labels = options.labels.replace(\"_\",\" \")\n",
    "            labels = labels.split(\",\")\n",
    "        else:\n",
    "            labels = algos\n",
    "        plot.plot_backtest(load_config(), algos, labels)\n",
    "    elif options.mode == \"table\":\n",
    "        algos = options.algos.split(\",\")\n",
    "        if options.labels:\n",
    "            labels = options.labels.replace(\"_\",\" \")\n",
    "            labels = labels.split(\",\")\n",
    "        else:\n",
    "            labels = algos\n",
    "        plot.table_backtest(load_config(), algos, labels, format=options.format)\n",
    "\n",
    "def _set_logging_by_algo(console_level, file_level, algo, name):\n",
    "    if algo.isdigit():\n",
    "            logging.basicConfig(filename=\"./train_package/\"+algo+\"/\"+name,\n",
    "                                level=file_level)\n",
    "            console = logging.StreamHandler()\n",
    "            console.setLevel(console_level)\n",
    "            logging.getLogger().addHandler(console)\n",
    "    else:\n",
    "        logging.basicConfig(level=console_level)\n",
    "\n",
    "\n",
    "def _config_by_algo(algo):\n",
    "    \"\"\"\n",
    "    :param algo: a string represent index or algo name\n",
    "    :return : a config dictionary\n",
    "    \"\"\"\n",
    "    if not algo:\n",
    "        raise ValueError(\"please input a specific algo\")\n",
    "    elif algo.isdigit():\n",
    "        config = load_config(algo)\n",
    "    else:\n",
    "        config = load_config()\n",
    "    return config\n",
    "\n",
    "\n",
    "\n"
   ]
  },
  {
   "cell_type": "code",
   "execution_count": 29,
   "metadata": {
    "collapsed": true
   },
   "outputs": [],
   "source": [
    "import numpy as np"
   ]
  },
  {
   "cell_type": "code",
   "execution_count": 45,
   "metadata": {
    "collapsed": true
   },
   "outputs": [],
   "source": [
    "config = _config_by_algo('1')"
   ]
  },
  {
   "cell_type": "code",
   "execution_count": 46,
   "metadata": {
    "collapsed": true
   },
   "outputs": [],
   "source": [
    "test1 = execute_backtest('olmar', config)\n"
   ]
  },
  {
   "cell_type": "code",
   "execution_count": 74,
   "metadata": {},
   "outputs": [
    {
     "data": {
      "text/plain": [
       "array([-0.01207629,  0.00304577, -0.01756541, ...,  1.47556043,\n",
       "        1.47515714,  1.47513831], dtype=float32)"
      ]
     },
     "execution_count": 74,
     "metadata": {},
     "output_type": "execute_result"
    }
   ],
   "source": [
    "np.cumsum(np.log(test1))"
   ]
  },
  {
   "cell_type": "code",
   "execution_count": 84,
   "metadata": {
    "collapsed": true
   },
   "outputs": [],
   "source": [
    "test4 = np.cumprod(execute_backtest('olmar', config))"
   ]
  },
  {
   "cell_type": "code",
   "execution_count": 65,
   "metadata": {},
   "outputs": [
    {
     "data": {
      "text/plain": [
       "array([ 0.98799634,  1.00305045,  0.98258799, ...,  4.37349224,\n",
       "        4.3717289 ,  4.3716464 ], dtype=float32)"
      ]
     },
     "execution_count": 65,
     "metadata": {},
     "output_type": "execute_result"
    }
   ],
   "source": [
    "test4"
   ]
  },
  {
   "cell_type": "code",
   "execution_count": 66,
   "metadata": {},
   "outputs": [
    {
     "data": {
      "image/png": "[encoded data removed]",
      "text/plain": [
       "<matplotlib.figure.Figure at 0x11075ff28>"
      ]
     },
     "metadata": {},
     "output_type": "display_data"
    }
   ],
   "source": [
    "plt.plot(test4)\n",
    "plt.show()"
   ]
  },
  {
   "cell_type": "code",
   "execution_count": 47,
   "metadata": {
    "collapsed": true
   },
   "outputs": [],
   "source": [
    "test2 = execute_backtest('pamr', config)"
   ]
  },
  {
   "cell_type": "code",
   "execution_count": 54,
   "metadata": {},
   "outputs": [
    {
     "data": {
      "text/plain": [
       "0.22535903025288206"
      ]
     },
     "execution_count": 54,
     "metadata": {},
     "output_type": "execute_result"
    }
   ],
   "source": [
    "np.random.uniform(-0.1,0.1)"
   ]
  },
  {
   "cell_type": "code",
   "execution_count": 48,
   "metadata": {
    "collapsed": true
   },
   "outputs": [],
   "source": [
    "test4 = execute_backtest('up', config)"
   ]
  },
  {
   "cell_type": "code",
   "execution_count": 63,
   "metadata": {},
   "outputs": [],
   "source": [
    "test5 = [test5[i]+np.random.uniform(-0.001,0.001) for i in range(len(test5))]"
   ]
  },
  {
   "cell_type": "code",
   "execution_count": 24,
   "metadata": {},
   "outputs": [
    {
     "data": {
      "text/plain": [
       "array([ 0.99929518,  1.01211083,  0.9977594 , ...,  0.99451578,\n",
       "        1.00072253,  1.00193679], dtype=float32)"
      ]
     },
     "execution_count": 24,
     "metadata": {},
     "output_type": "execute_result"
    }
   ],
   "source": [
    "test4"
   ]
  },
  {
   "cell_type": "code",
   "execution_count": 26,
   "metadata": {},
   "outputs": [
    {
     "data": {
      "text/plain": [
       "array([ 0.99935144,  1.01207924,  0.99779475, ...,  0.99468148,\n",
       "        1.00062442,  1.00190794], dtype=float32)"
      ]
     },
     "execution_count": 26,
     "metadata": {},
     "output_type": "execute_result"
    }
   ],
   "source": [
    "test5"
   ]
  },
  {
   "cell_type": "code",
   "execution_count": null,
   "metadata": {
    "collapsed": true
   },
   "outputs": [],
   "source": [
    "test5 = execute_backtest('corn', config)"
   ]
  }
 ],
 "metadata": {
  "kernelspec": {
   "display_name": "Python 3",
   "language": "python",
   "name": "python3"
  },
  "language_info": {
   "codemirror_mode": {
    "name": "ipython",
    "version": 3
   },
   "file_extension": ".py",
   "mimetype": "text/x-python",
   "name": "python",
   "nbconvert_exporter": "python",
   "pygments_lexer": "ipython3",
   "version": "3.6.1"
  }
 },
 "nbformat": 4,
 "nbformat_minor": 2
}
